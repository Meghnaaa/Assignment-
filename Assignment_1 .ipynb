{
 "cells": [
  {
   "cell_type": "markdown",
   "metadata": {},
   "source": [
    "# Assignment 1 - Axelrods tournament"
   ]
  },
  {
   "cell_type": "markdown",
   "metadata": {},
   "source": [
    "#### When you have finished <font color=\"red\">download this page as an IP Notebook file</font> (File -> Download as -> IPython Notebook (.ipynb) ) and then upload to WOLF by midnight on Friday 17/11/2017"
   ]
  },
  {
   "cell_type": "markdown",
   "metadata": {},
   "source": [
    "#### <font color=\"purple\">Please enter your Student Number in the space provided below</font>"
   ]
  },
  {
   "cell_type": "markdown",
   "metadata": {},
   "source": [
    "1828442"
   ]
  },
  {
   "cell_type": "markdown",
   "metadata": {},
   "source": [
    "Implement a series of player/agents to play the prisoners dilemma against each other for Axelrod’s tournament and see which strategy performs the best overall.  This assignment is worth <b>40%</b> of the module.<br>Below is the code for a very simple player use this as a template for the design of your other players.  "
   ]
  },
  {
   "cell_type": "markdown",
   "metadata": {},
   "source": [
    "<font color=\"red\"><b>Q-1:</b></font><font color=\"purple\">You will devise and add your tournament players in the space below.  You should produce a minimum of 6 different strategies, comment your code to indicate the name or nature of the strategy.</font> <b> (4 marks each)</b><br><br>Each player should be in a class name prefixed with the name Player, so if your player is to be called <b><font color=\"purple\">Bond</font></b> your class name should be Player<b><font color=\"purple\">Bond</font></b>.  Each player class should contain one method with the prototype<br> \n",
    "&emsp;&emsp;&emsp;&emsp;<b><font color=\"blue\">move</font>(<font color=\"red\">self, history</font>)</b><br>The history parameter gives two lists the history of player's moves against the current opponent and the history of the opponent's aginst the player. The method should also <b><font color=\"blue\">return</font></b> either a <b><font color=\"green\">'C'</font></b> or a <b><font color=\"green\">'D'</font></b> for cooperate or defect respectively. <i>Note: You can place multiple Player classes in the space provided below.</i> "
   ]
  },
  {
   "cell_type": "markdown",
   "metadata": {},
   "source": [
    "<font color=\"red\"><b>Solution:-"
   ]
  },
  {
   "cell_type": "code",
   "execution_count": 14,
   "metadata": {
    "collapsed": true
   },
   "outputs": [],
   "source": [
    "## Player simply plays Defect on every rounds\n",
    "class PlayerAlwaysDefect:\n",
    "\n",
    "    def move(self, history):\n",
    "        \n",
    "        return 'D'"
   ]
  },
  {
   "cell_type": "code",
   "execution_count": 15,
   "metadata": {},
   "outputs": [],
   "source": [
    "#Player Cooperates on the first move, and deflects after receiving a (D&D) or (D&C).\n",
    "class PlayerDDorDC:\n",
    "\n",
    "    def move(self, history):\n",
    "        \n",
    "        mine, theirs = history\n",
    "        \n",
    "        try:\n",
    "            if (theirs[-1] == 'D' and theirs[-2] == 'D') or (theirs[-1] == 'D' and theirs[-2] == 'C') :\n",
    "                return 'D'\n",
    "            else:\n",
    "                return 'C'\n",
    "        except:\n",
    "            return 'C'"
   ]
  },
  {
   "cell_type": "code",
   "execution_count": 16,
   "metadata": {},
   "outputs": [],
   "source": [
    "## This player cooperate only when length of mine is divisible by 3. otherwise it plays defect \n",
    "class PlayerThree:\n",
    "    \n",
    "    def move(self, history):\n",
    "        mine, theirs = history\n",
    "        \n",
    "        if len(mine) % 3 == 0:\n",
    "            return 'C'\n",
    "        else:\n",
    "            return 'D'"
   ]
  },
  {
   "cell_type": "code",
   "execution_count": 17,
   "metadata": {},
   "outputs": [],
   "source": [
    "## This player first play cooperate then \n",
    "## simply alternates the decision in each rounds i.e if opponent plays C player plays D and vice versa.\n",
    "class PlayerOpposite:\n",
    "\n",
    "    def move(self, history):\n",
    "        mine,theirs = history\n",
    "        try:\n",
    "            if theirs[-1] == 'D':\n",
    "                return 'C'\n",
    "            else:\n",
    "                return 'D'\n",
    "        except:\n",
    "            return 'C'"
   ]
  },
  {
   "cell_type": "code",
   "execution_count": 18,
   "metadata": {},
   "outputs": [],
   "source": [
    "## Player plays alternetly i.e Defect and cooperate only\n",
    "class PlayerAlternet:\n",
    "\n",
    "    def move(self, history):\n",
    "        mine, theirs = history\n",
    "         \n",
    "        if len(mine) % 2 != 0:\n",
    "            return 'D'\n",
    "        else:\n",
    "            return 'C'"
   ]
  },
  {
   "cell_type": "code",
   "execution_count": 19,
   "metadata": {},
   "outputs": [],
   "source": [
    "## Player simply plays Cooperate on every rounds\n",
    "class PlayerAlwaysCooperate:\n",
    "\n",
    "    def move(self, history):\n",
    "        \n",
    "        return 'C'"
   ]
  },
  {
   "cell_type": "markdown",
   "metadata": {},
   "source": [
    "The code below is a modified version of Allen B. Downey's program to play Axelrods tournament in IPython notepad.  The player code is now read from classes in memory rather than local files and a score for each agent as follows:<br> - 3 if they both cooperate<br> - 1 if they both defect<br> - 5 if a player defects against a cooperating player and<br> - 0 if a player cooperates against a defecting player."
   ]
  },
  {
   "cell_type": "code",
   "execution_count": 20,
   "metadata": {
    "collapsed": true
   },
   "outputs": [],
   "source": [
    "\"\"\" \n",
    "Code example by Allen B. Downey \n",
    "from Complexity and Computation (2011).  \n",
    "Modified by D. Case to work in IPython notebook.\n",
    "\"\"\"\n",
    "## The following are methods/functions/operators that \n",
    "## it is safe to use, if required, in your agent  \n",
    "safe_builtins = \"\"\"\n",
    "abs divmod staticmethod\n",
    "all enumerate int ord str\n",
    "any isinstance pow sum\n",
    "basestring issubclass print super\n",
    "bin iter property tuple\n",
    "bool filter len range type\n",
    "bytearray float list unichr\n",
    "callable format reduce unicode\n",
    "chr frozenset long vars\n",
    "classmethod getattr map repr xrange\n",
    "cmp max reversed zip\n",
    "compile hasattr round\n",
    "complex hash min set apply\n",
    "delattr help next setattr buffer\n",
    "dict hex object slice coerce\n",
    "id oct sorted intern\n",
    "\"\"\"\n",
    "class Player(object):\n",
    "    \"\"\"Represents a player.\n",
    "\n",
    "    Attributes:\n",
    "      filename: file the code was read from\n",
    "      globs: global environment used to execute code\n",
    "      locs: local environment used to execute code\n",
    "    \"\"\"\n",
    "    def __init__(self, filename):\n",
    "        self.filename = filename\n",
    "        self.globs = self.make_globals()\n",
    "        self.locs = self.make_locals()\n",
    "        self.move = filename.move\n",
    "        self.total = 0\n",
    "\n",
    "    def add(self, inc):\n",
    "        self.total += inc\n",
    "\n",
    "    def make_globals(self):\n",
    "        \"\"\"Make the global environment.\"\"\"\n",
    "        try:\n",
    "            t = [(k, __builtins__[k]) for k in safe_builtins.split()]\n",
    "        except TypeError:\n",
    "            t = [(k, getattr(__builtins__, k)) for k in safe_builtins.split()]\n",
    "        safe_dict = dict(__builtins__=dict(t))\n",
    "\n",
    "        safe_list = ['math', 'random']\n",
    "        t = [(k, globals().get(k)) for k in safe_list]\n",
    "        safe_dict.update(t)\n",
    "\n",
    "        return safe_dict\n",
    "\n",
    "    def make_locals(self):\n",
    "        \"\"\"Make the local environment.\"\"\"\n",
    "        return dict()\n",
    "\n",
    "class Referee(object):\n",
    "    def __init__(self, player_dir='.'):\n",
    "        self.player_dir = player_dir\n",
    "\n",
    "    def find_players(self, pattern='Player*.py'):\n",
    "        \"\"\"Find files that match pattern and read players.\n",
    "\n",
    "        Returns a list of Player objects.\n",
    "        \"\"\"\n",
    "        filenames = [val for nm, val in globals().iteritems() if len(nm) > 6 and nm[:6] == 'Player']\n",
    "        filenames.sort()\n",
    "\n",
    "        players = []\n",
    "        for className in filenames:\n",
    "            player = Player(className())\n",
    "            players.append(player)\n",
    "\n",
    "            move = getattr(player, 'move', None)\n",
    "            if not move:\n",
    "                print '%s has no move method.' % className\n",
    "\n",
    "        return players\n",
    "\n",
    "    def run_tournament(self, players, n=50):\n",
    "        \"\"\"Run a tournament that runs each player against the others.\n",
    "\n",
    "        Returns an array of scores.\n",
    "        \"\"\"\n",
    "        results = {}\n",
    "        if len(players) == 1:\n",
    "            self.run_head_to_head(players[0], players[0], n*2)\n",
    "            return\n",
    "        for player1 in players:\n",
    "            for player2 in players:\n",
    "                if player1 == player2:\n",
    "                    continue\n",
    "                self.run_head_to_head(player1, player2, n)\n",
    "        for player1 in players:\n",
    "            results[player1.filename.__class__.__name__] = player1.total\n",
    "        return results\n",
    "\n",
    "    def run_head_to_head(self, player1, player2, n=50):\n",
    "        \"\"\"Run players against each other n times.\n",
    "\n",
    "        Returns a pair of scores.\n",
    "        \"\"\"\n",
    "        moves1 = []\n",
    "        moves2 = []\n",
    "        for i in xrange(n):\n",
    "            move1, move2 = self.one_round(player1, player2, moves1, moves2)\n",
    "            moves1.append(move1)\n",
    "            moves2.append(move2)\n",
    "\n",
    "    def one_round(self, player1, player2, moves1, moves2):\n",
    "        \"\"\"Plays one round and updates the scores.\n",
    "\n",
    "        Returns the players' moves.\n",
    "        \"\"\"\n",
    "        move1 = self.call(player1, (moves1, moves2))\n",
    "        move2 = self.call(player2, (moves2, moves1))\n",
    "        if move1 == move2:\n",
    "            if move1 == 'C':\n",
    "                score = 3\n",
    "            else:\n",
    "                score = 1\n",
    "            player1.add(score)\n",
    "            player2.add(score)\n",
    "        elif move1 == 'C' and move2 == 'D':\n",
    "            player2.add(5)\n",
    "        elif move1 == 'D' and move2 == 'C':\n",
    "            player1.add(5)\n",
    "        return move1, move2\n",
    "\n",
    "    def call(self, player, history):\n",
    "        \"\"\"Calls the player's move function and returns the result.\"\"\"\n",
    "        player.locs['history'] = history\n",
    "        decision = player.move(history)\n",
    "        return decision\n",
    "\n",
    "## Note: the main routine returns a dictionary \n",
    "## of results once the simulation has completed\n",
    "def main(n=100):\n",
    "    ref = Referee()\n",
    "    players = ref.find_players()\n",
    "    return ref.run_tournament(players, n)"
   ]
  },
  {
   "cell_type": "markdown",
   "metadata": {},
   "source": [
    "Calling main routine runs the tournament, the optional parameter specifies the number of rounds played between each pair of players, the default is 100.  The main routine returns a dictionary of results with the performance score for each player agent. For example:<br>&emsp;&emsp;<b><font color=\"green\">{'PlayerGrouch': 404, 'PlayerFlipper': 222, 'PlayerPollyanna': 78}</font></b><br>You <font color=\"red\">should also experiment with different numbers of rounds</font> to observe if the relative performance of the players changes. "
   ]
  },
  {
   "cell_type": "code",
   "execution_count": 21,
   "metadata": {
    "collapsed": false
   },
   "outputs": [
    {
     "name": "stdout",
     "output_type": "stream",
     "text": [
      "('Tournament run for 10 times:', {'PlayerAlternet': 224, 'PlayerThree': 246, 'PlayerAlwaysDefect': 348, 'PlayerOpposite': 218, 'PlayerAlwaysCooperate': 120, 'PlayerDDorDC': 206})\n",
      "('Tournament run for 50 times:', {'PlayerAlternet': 1074, 'PlayerThree': 1250, 'PlayerAlwaysDefect': 1652, 'PlayerOpposite': 1064, 'PlayerAlwaysCooperate': 558, 'PlayerDDorDC': 1062})\n",
      "('Tournament run for 100 times:', {'PlayerAlternet': 2144, 'PlayerThree': 2496, 'PlayerAlwaysDefect': 3288, 'PlayerOpposite': 2116, 'PlayerAlwaysCooperate': 1110, 'PlayerDDorDC': 2144})\n",
      "('Tournament run for 200 times:', {'PlayerAlternet': 4274, 'PlayerThree': 5000, 'PlayerAlwaysDefect': 6552, 'PlayerOpposite': 4232, 'PlayerAlwaysCooperate': 2208, 'PlayerDDorDC': 4290})\n",
      "('Tournament run for 300 times:', {'PlayerAlternet': 6406, 'PlayerThree': 7506, 'PlayerAlwaysDefect': 9816, 'PlayerOpposite': 6346, 'PlayerAlwaysCooperate': 3306, 'PlayerDDorDC': 6438})\n"
     ]
    }
   ],
   "source": [
    "## call main to run the tournament\n",
    "remark_10=main(10)\n",
    "print (\"Tournament run for 10 times:\",remark_10)\n",
    "\n",
    "remark_50=main(50)\n",
    "print (\"Tournament run for 50 times:\",remark_50)\n",
    "\n",
    "remark_100 = main(100)\n",
    "print (\"Tournament run for 100 times:\",remark_100)\n",
    "\n",
    "\n",
    "remark_200 = main(200)\n",
    "print (\"Tournament run for 200 times:\",remark_200)\n",
    "\n",
    "remark_300=main(300)\n",
    "print (\"Tournament run for 300 times:\",remark_300)\n"
   ]
  },
  {
   "cell_type": "markdown",
   "metadata": {},
   "source": [
    "<font color=\"red\"><b>Q-2:</b></font><font color=\"purple\">The results would be better presented in a bar chart.  Is it possible to produce a bar chart in matplotlib?  <i><b>(Hint: Yes it is)</b></i>.  Research (prio ) how to produce a bar chart in matplotlib and in the space below take the output from running main to produce the plot.</font> <b> (6 marks)</b>"
   ]
  },
  {
   "cell_type": "markdown",
   "metadata": {},
   "source": [
    "<font color=\"red\"><b>Solution:-"
   ]
  },
  {
   "cell_type": "code",
   "execution_count": 22,
   "metadata": {
    "collapsed": true
   },
   "outputs": [
    {
     "data": {
      "image/png": "[encoded data removed]",
      "text/plain": [
       "<Figure size 432x288 with 1 Axes>"
      ]
     },
     "metadata": {
      "needs_background": "light"
     },
     "output_type": "display_data"
    }
   ],
   "source": [
    "import matplotlib.pyplot as plt\n",
    "plt.barh(range(len(remark_10)), list(remark_10.values()), align='center', alpha=0.3)\n",
    "plt.yticks(range(len(remark_10)), list(remark_10.keys()))\n",
    "\n",
    "#adds the title and x axis and y axis label\n",
    "plt.title('Results Bar Chart')\n",
    "plt.xlabel('Points')\n",
    "plt.ylabel('Player Strategies')\n",
    "plt.show()\n"
   ]
  },
  {
   "cell_type": "code",
   "execution_count": 23,
   "metadata": {},
   "outputs": [
    {
     "data": {
      "image/png": "[encoded data removed]",
      "text/plain": [
       "<Figure size 432x288 with 1 Axes>"
      ]
     },
     "metadata": {
      "needs_background": "light"
     },
     "output_type": "display_data"
    }
   ],
   "source": [
    "import matplotlib.pyplot as plt\n",
    "plt.barh(range(len(remark_50)), list(remark_50.values()), align='center', alpha=0.4)\n",
    "plt.yticks(range(len(remark_50)), list(remark_50.keys()))\n",
    "\n",
    "#adds the title and x axis and y axis label\n",
    "plt.title('Results Bar Chart')\n",
    "plt.xlabel('Point')\n",
    "plt.ylabel('Player Strategies')\n",
    "plt.show()\n"
   ]
  },
  {
   "cell_type": "code",
   "execution_count": 24,
   "metadata": {},
   "outputs": [
    {
     "data": {
      "image/png": "[encoded data removed]",
      "text/plain": [
       "<Figure size 432x288 with 1 Axes>"
      ]
     },
     "metadata": {
      "needs_background": "light"
     },
     "output_type": "display_data"
    }
   ],
   "source": [
    "import matplotlib.pyplot as plt\n",
    "plt.barh(range(len(remark_100)), list(remark_100.values()), align='center', alpha=0.4)\n",
    "plt.yticks(range(len(remark_100)), list(remark_100.keys()))\n",
    "\n",
    "#adds the title and x axis and y axis label\n",
    "plt.title('Results Bar Chart')\n",
    "plt.xlabel('Point')\n",
    "plt.ylabel('Player Strategies')\n",
    "plt.show()\n"
   ]
  },
  {
   "cell_type": "code",
   "execution_count": 25,
   "metadata": {},
   "outputs": [
    {
     "data": {
      "image/png": "[encoded data removed]",
      "text/plain": [
       "<Figure size 432x288 with 1 Axes>"
      ]
     },
     "metadata": {
      "needs_background": "light"
     },
     "output_type": "display_data"
    }
   ],
   "source": [
    "import matplotlib.pyplot as plt\n",
    "plt.barh(range(len(remark_200)), list(remark_200.values()), align='center', alpha=0.5)\n",
    "plt.yticks(range(len(remark_200)), list(remark_200.keys()))\n",
    "\n",
    "#adds the title and x axis and y axis label\n",
    "plt.title('Results Bar Chart')\n",
    "plt.xlabel('Point')\n",
    "plt.ylabel('Player Strategies')\n",
    "plt.show()\n"
   ]
  },
  {
   "cell_type": "code",
   "execution_count": 26,
   "metadata": {},
   "outputs": [
    {
     "data": {
      "image/png": "[encoded data removed]",
      "text/plain": [
       "<Figure size 432x288 with 1 Axes>"
      ]
     },
     "metadata": {
      "needs_background": "light"
     },
     "output_type": "display_data"
    }
   ],
   "source": [
    "import matplotlib.pyplot as plt\n",
    "plt.barh(range(len(remark_300)), list(remark_300.values()), align='center', alpha=0.6)\n",
    "plt.yticks(range(len(remark_300)), list(remark_300.keys()))\n",
    "\n",
    "#adds the title and x axis and y axis label\n",
    "plt.title('Results Bar Chart')\n",
    "plt.xlabel('Point')\n",
    "plt.ylabel('Player Strategies')\n",
    "plt.show()\n"
   ]
  },
  {
   "cell_type": "markdown",
   "metadata": {},
   "source": [
    "<font color=\"red\"><b>Q-3:</b></font><font color=\"purple\">Comment on the the most successful strategy found. Include a brief explanation of why this strategy has been successful and the number of rounds to achieve this performance.</font>  <b> (6 marks)</b>"
   ]
  },
  {
   "cell_type": "markdown",
   "metadata": {},
   "source": [
    "<font color=\"red\"><b>Solution:-"
   ]
  },
  {
   "cell_type": "markdown",
   "metadata": {},
   "source": [
    "- I have written six strategies that were used for playing the axelrods tournament among them PlayerAlwaysDefect turned out to be the best because in this strategy player simply plays Defect on every rounds as PlayerAlwaysDefect scored high points at the end of every 10, 50, 100, 200, 300 rounds in same way other strategy like PlayerThree is in second place and PlayerAlternate is in third place and so on. When the every round was played PlayerAlwaysDefect scored high points which is the highest among other strategies.\n",
    "\n",
    "- PlayerAlwaysDefect wins in all rounds because it always scores 1,3 or 5. \n",
    "\n",
    "- PlayerThree in in second place because it plays cooperate only when the length of result is divisible\n",
    "by three otherwise plays defect. Which is always greater then number of cooperates does in this strategy and so on.\n",
    "\n",
    "\n"
   ]
  },
  {
   "cell_type": "markdown",
   "metadata": {},
   "source": [
    "<font color=\"red\"><b>Q-4:</b></font><font color=\"purple\">Including a brief explanation, give the asymptotic (big-O) times for the run_tournament (a) and run_head_to_head methods (b) in the Referee class?</font>  <b> (2 marks each)</b>"
   ]
  },
  {
   "cell_type": "markdown",
   "metadata": {},
   "source": [
    "<font color=\"red\"><b>Solution:-"
   ]
  },
  {
   "cell_type": "markdown",
   "metadata": {},
   "source": [
    "    asymptotic time\n",
    "a) The run_tournament() has complexity of asympotic(big-O) of O(n^2) because it run a tournament that runs each player against the others and two for loops were used.\n",
    "\n",
    "b) The run_head_to_head methods() has complexity of asympotic(big-O) of O(n) because it run players against each other n times and one for loop is used."
   ]
  },
  {
   "cell_type": "markdown",
   "metadata": {},
   "source": [
    "Note: This is an <b>individual assignment</b>; sharing your work with colleagues or passing off the work of others as your own is plagiarism and will harm your chance to successfully complete this module. "
   ]
  },
  {
   "cell_type": "code",
   "execution_count": null,
   "metadata": {},
   "outputs": [],
   "source": []
  },
  {
   "cell_type": "code",
   "execution_count": null,
   "metadata": {},
   "outputs": [],
   "source": []
  }
 ],
 "metadata": {
  "kernelspec": {
   "display_name": "Python 2",
   "language": "python",
   "name": "python2"
  },
  "language_info": {
   "codemirror_mode": {
    "name": "ipython",
    "version": 2
   },
   "file_extension": ".py",
   "mimetype": "text/x-python",
   "name": "python",
   "nbconvert_exporter": "python",
   "pygments_lexer": "ipython2",
   "version": "2.7.15"
  }
 },
 "nbformat": 4,
 "nbformat_minor": 2
}
